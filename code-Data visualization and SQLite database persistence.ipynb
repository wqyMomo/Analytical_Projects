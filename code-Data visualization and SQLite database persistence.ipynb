{
 "cells": [
  {
   "cell_type": "markdown",
   "metadata": {},
   "source": [
    "# 158.739 Introduction to Analytics Assignment 3\n",
    "### by Qianying Wu (Momo) 18041217"
   ]
  },
  {
   "cell_type": "markdown",
   "metadata": {},
   "source": [
    "# Introduction\n",
    "This assignment is about data persistence and data analysis by using SQLite.\n",
    "\n",
    "## Processes:\n",
    "1. Dataframes preparation\n",
    "2. Data persistence\n",
    "3. Access data from databases\n",
    "4. Data analysis\n",
    "5. Database views"
   ]
  },
  {
   "cell_type": "markdown",
   "metadata": {},
   "source": [
    "## Import of packages"
   ]
  },
  {
   "cell_type": "code",
   "execution_count": 1,
   "metadata": {},
   "outputs": [],
   "source": [
    "import requests\n",
    "from bs4 import BeautifulSoup\n",
    "import numpy as np\n",
    "import pandas as pd\n",
    "import matplotlib.pyplot as plt\n",
    "import json\n",
    "import os\n",
    "import datetime\n",
    "import sqlite3\n",
    "import seaborn as sns"
   ]
  },
  {
   "cell_type": "markdown",
   "metadata": {},
   "source": [
    "# Dataframes Preparation\n",
    "There are 6 dataframes that need to prepare: \n",
    "- Residential Consumption dataframe\n",
    "- Population dataframe\n",
    "- Electricity Generation dataframe\n",
    "- Geothermal Production dataframe\n",
    "- Wind Production dataframe\n",
    "- Rainfall index dataframe"
   ]
  },
  {
   "cell_type": "code",
   "execution_count": 2,
   "metadata": {
    "scrolled": true
   },
   "outputs": [
    {
     "name": "stderr",
     "output_type": "stream",
     "text": [
      "D:\\Anaconda3\\lib\\site-packages\\pandas\\core\\generic.py:5890: SettingWithCopyWarning: \n",
      "A value is trying to be set on a copy of a slice from a DataFrame\n",
      "\n",
      "See the caveats in the documentation: http://pandas.pydata.org/pandas-docs/stable/indexing.html#indexing-view-versus-copy\n",
      "  self._update_inplace(new_data)\n"
     ]
    }
   ],
   "source": [
    "# Residential consumption table\n",
    "df=pd.read_csv('../datasets/Residential_consumption.csv',skiprows=10)\n",
    "residential_consumption=df.pivot_table(values=['Est. total consumption (GWh)','Average consumption (kWh)'],index=['Region description'],aggfunc='mean')\n",
    "\n",
    "# Population table\n",
    "url = \"https://en.wikipedia.org/wiki/Regions_of_New_Zealand\"\n",
    "response = requests.get(url)\n",
    "scraping_html_table = BeautifulSoup(response.content, \"lxml\") \n",
    "scraping_html_table = scraping_html_table.find_all(\"table\", \"wikitable\")\n",
    "df2 = pd.read_html(str(scraping_html_table))\n",
    "first_table_df = df2[0]\n",
    "first_table_df.columns = first_table_df.iloc[0]\n",
    "first_table_df = first_table_df.iloc[2:]\n",
    "population_df=first_table_df[['Region name(name in Māori if different)','Population[22]']]\n",
    "population_df.columns=['Region description','Population']\n",
    "population_df['Region description'].replace({\"Auckland(1)Tāmaki-makau-rau\": \"Auckland\", \"Bay of PlentyTe Moana-a-Toi\": \"Bay of Plenty\",\n",
    "                                            \"Gisborne(1)(2)Te Tai Rāwhiti\":\"Gisborne\",\"Hawke's BayTe Matau-a-Māui\":\"Hawke's Bay\",\n",
    "                                            \"WellingtonTe Whanga-nui-a-Tara\":\"Wellington\",\"Tasman(1)Te Tai-o-Aorere\":\"Tasman\",\n",
    "                                            \"Nelson(1)Whakatū\":\"Nelson\",\"Marlborough(1)Te Tauihu-o-te-waka\":\"Marlborough\",\n",
    "                                            \"West CoastTe Tai Poutini\":\"West Coast\",\"CanterburyWaitaha\":\"Canterbury\",\n",
    "                                            \"OtagoŌtākou\":\"Otago\",\"SouthlandMurihiku\":\"Southland\"}, inplace=True)\n",
    "population_df=population_df.set_index('Region description')\n",
    "\n",
    "# Electricity Generation table\n",
    "df=pd.read_excel('../datasets/Electricity.xlsx',sheet_name='Table 2',skiprows=8,nrows=12).dropna()\n",
    "df=df.transpose()\n",
    "df=df.rename(columns=df.iloc[0])\n",
    "gov_table=df.iloc[1:]\n",
    "gov_table.columns=['Net_Generation(GWh)','Hydro','Geothermal','Biogas','Wood','Wind','Solar','Oil','Coal','Gas','Waste Heat']\n",
    "gov_table=gov_table.drop('Annual % change').astype('float')\n",
    "gov_table=gov_table.drop('2020P')\n",
    "\n",
    "# Geothermal Production, Wind Production, Rainfall index tables\n",
    "def web_scraping(url):\n",
    "    response=requests.get(url)\n",
    "    page=response.content\n",
    "    scraping=BeautifulSoup(page,\"lxml\")\n",
    "    table=scraping.find_all('table',attrs={'class':'knoema-table'})\n",
    "    df=pd.read_html(str(table))\n",
    "    return df[0].set_index('Date')\n",
    "\n",
    "rainfall=web_scraping(\"https://knoema.com/atlas/New-Zealand/topics/Water/Precipitation/National-rainfall-index\")\n",
    "geothermal_production=web_scraping(\"https://knoema.com/atlas/New-Zealand/topics/Energy/Electricity/Geothermal-electricity-net-generation\")\n",
    "wind_production=web_scraping(\"https://knoema.com/atlas/New-Zealand/topics/Energy/Electricity/Wind-electricity-net-generation\")"
   ]
  },
  {
   "cell_type": "code",
   "execution_count": 3,
   "metadata": {},
   "outputs": [
    {
     "data": {
      "text/html": [
       "<div>\n",
       "<style scoped>\n",
       "    .dataframe tbody tr th:only-of-type {\n",
       "        vertical-align: middle;\n",
       "    }\n",
       "\n",
       "    .dataframe tbody tr th {\n",
       "        vertical-align: top;\n",
       "    }\n",
       "\n",
       "    .dataframe thead th {\n",
       "        text-align: right;\n",
       "    }\n",
       "</style>\n",
       "<table border=\"1\" class=\"dataframe\">\n",
       "  <thead>\n",
       "    <tr style=\"text-align: right;\">\n",
       "      <th></th>\n",
       "      <th>Average consumption (kWh)</th>\n",
       "      <th>Est. total consumption (GWh)</th>\n",
       "    </tr>\n",
       "    <tr>\n",
       "      <th>Region description</th>\n",
       "      <th></th>\n",
       "      <th></th>\n",
       "    </tr>\n",
       "  </thead>\n",
       "  <tbody>\n",
       "    <tr>\n",
       "      <th>Auckland</th>\n",
       "      <td>7171.9</td>\n",
       "      <td>3666.3934</td>\n",
       "    </tr>\n",
       "  </tbody>\n",
       "</table>\n",
       "</div>"
      ],
      "text/plain": [
       "                    Average consumption (kWh)  Est. total consumption (GWh)\n",
       "Region description                                                         \n",
       "Auckland                               7171.9                     3666.3934"
      ]
     },
     "execution_count": 3,
     "metadata": {},
     "output_type": "execute_result"
    }
   ],
   "source": [
    "residential_consumption.head(1)"
   ]
  },
  {
   "cell_type": "code",
   "execution_count": 4,
   "metadata": {},
   "outputs": [
    {
     "data": {
      "text/html": [
       "<div>\n",
       "<style scoped>\n",
       "    .dataframe tbody tr th:only-of-type {\n",
       "        vertical-align: middle;\n",
       "    }\n",
       "\n",
       "    .dataframe tbody tr th {\n",
       "        vertical-align: top;\n",
       "    }\n",
       "\n",
       "    .dataframe thead th {\n",
       "        text-align: right;\n",
       "    }\n",
       "</style>\n",
       "<table border=\"1\" class=\"dataframe\">\n",
       "  <thead>\n",
       "    <tr style=\"text-align: right;\">\n",
       "      <th></th>\n",
       "      <th>Population</th>\n",
       "    </tr>\n",
       "    <tr>\n",
       "      <th>Region description</th>\n",
       "      <th></th>\n",
       "    </tr>\n",
       "  </thead>\n",
       "  <tbody>\n",
       "    <tr>\n",
       "      <th>Auckland</th>\n",
       "      <td>1717500</td>\n",
       "    </tr>\n",
       "  </tbody>\n",
       "</table>\n",
       "</div>"
      ],
      "text/plain": [
       "                   Population\n",
       "Region description           \n",
       "Auckland              1717500"
      ]
     },
     "execution_count": 4,
     "metadata": {},
     "output_type": "execute_result"
    }
   ],
   "source": [
    "population_df.head(1)"
   ]
  },
  {
   "cell_type": "code",
   "execution_count": 5,
   "metadata": {},
   "outputs": [
    {
     "data": {
      "text/html": [
       "<div>\n",
       "<style scoped>\n",
       "    .dataframe tbody tr th:only-of-type {\n",
       "        vertical-align: middle;\n",
       "    }\n",
       "\n",
       "    .dataframe tbody tr th {\n",
       "        vertical-align: top;\n",
       "    }\n",
       "\n",
       "    .dataframe thead th {\n",
       "        text-align: right;\n",
       "    }\n",
       "</style>\n",
       "<table border=\"1\" class=\"dataframe\">\n",
       "  <thead>\n",
       "    <tr style=\"text-align: right;\">\n",
       "      <th></th>\n",
       "      <th>Net_Generation(GWh)</th>\n",
       "      <th>Hydro</th>\n",
       "      <th>Geothermal</th>\n",
       "      <th>Biogas</th>\n",
       "      <th>Wood</th>\n",
       "      <th>Wind</th>\n",
       "      <th>Solar</th>\n",
       "      <th>Oil</th>\n",
       "      <th>Coal</th>\n",
       "      <th>Gas</th>\n",
       "      <th>Waste Heat</th>\n",
       "    </tr>\n",
       "  </thead>\n",
       "  <tbody>\n",
       "    <tr>\n",
       "      <th>1974</th>\n",
       "      <td>20175.816</td>\n",
       "      <td>15037.0</td>\n",
       "      <td>1358.0</td>\n",
       "      <td>7.596</td>\n",
       "      <td>306.14</td>\n",
       "      <td>0.0</td>\n",
       "      <td>0.0</td>\n",
       "      <td>1943.0</td>\n",
       "      <td>1297.0</td>\n",
       "      <td>208.65</td>\n",
       "      <td>18.43</td>\n",
       "    </tr>\n",
       "  </tbody>\n",
       "</table>\n",
       "</div>"
      ],
      "text/plain": [
       "      Net_Generation(GWh)    Hydro  Geothermal  Biogas    Wood  Wind  Solar  \\\n",
       "1974            20175.816  15037.0      1358.0   7.596  306.14   0.0    0.0   \n",
       "\n",
       "         Oil    Coal     Gas  Waste Heat  \n",
       "1974  1943.0  1297.0  208.65       18.43  "
      ]
     },
     "execution_count": 5,
     "metadata": {},
     "output_type": "execute_result"
    }
   ],
   "source": [
    "gov_table.head(1)"
   ]
  },
  {
   "cell_type": "code",
   "execution_count": 6,
   "metadata": {},
   "outputs": [
    {
     "data": {
      "text/html": [
       "<div>\n",
       "<style scoped>\n",
       "    .dataframe tbody tr th:only-of-type {\n",
       "        vertical-align: middle;\n",
       "    }\n",
       "\n",
       "    .dataframe tbody tr th {\n",
       "        vertical-align: top;\n",
       "    }\n",
       "\n",
       "    .dataframe thead th {\n",
       "        text-align: right;\n",
       "    }\n",
       "</style>\n",
       "<table border=\"1\" class=\"dataframe\">\n",
       "  <thead>\n",
       "    <tr style=\"text-align: right;\">\n",
       "      <th></th>\n",
       "      <th>Value</th>\n",
       "      <th>Change, %</th>\n",
       "    </tr>\n",
       "    <tr>\n",
       "      <th>Date</th>\n",
       "      <th></th>\n",
       "      <th></th>\n",
       "    </tr>\n",
       "  </thead>\n",
       "  <tbody>\n",
       "    <tr>\n",
       "      <th>2017</th>\n",
       "      <td>1154</td>\n",
       "      <td>0.00 %</td>\n",
       "    </tr>\n",
       "  </tbody>\n",
       "</table>\n",
       "</div>"
      ],
      "text/plain": [
       "      Value Change, %\n",
       "Date                 \n",
       "2017   1154    0.00 %"
      ]
     },
     "execution_count": 6,
     "metadata": {},
     "output_type": "execute_result"
    }
   ],
   "source": [
    "rainfall.head(1)"
   ]
  },
  {
   "cell_type": "code",
   "execution_count": 7,
   "metadata": {},
   "outputs": [
    {
     "data": {
      "text/html": [
       "<div>\n",
       "<style scoped>\n",
       "    .dataframe tbody tr th:only-of-type {\n",
       "        vertical-align: middle;\n",
       "    }\n",
       "\n",
       "    .dataframe tbody tr th {\n",
       "        vertical-align: top;\n",
       "    }\n",
       "\n",
       "    .dataframe thead th {\n",
       "        text-align: right;\n",
       "    }\n",
       "</style>\n",
       "<table border=\"1\" class=\"dataframe\">\n",
       "  <thead>\n",
       "    <tr style=\"text-align: right;\">\n",
       "      <th></th>\n",
       "      <th>Value</th>\n",
       "      <th>Change, %</th>\n",
       "    </tr>\n",
       "    <tr>\n",
       "      <th>Date</th>\n",
       "      <th></th>\n",
       "      <th></th>\n",
       "    </tr>\n",
       "  </thead>\n",
       "  <tbody>\n",
       "    <tr>\n",
       "      <th>2019</th>\n",
       "      <td>7.44</td>\n",
       "      <td>-0.99 %</td>\n",
       "    </tr>\n",
       "  </tbody>\n",
       "</table>\n",
       "</div>"
      ],
      "text/plain": [
       "      Value Change, %\n",
       "Date                 \n",
       "2019   7.44   -0.99 %"
      ]
     },
     "execution_count": 7,
     "metadata": {},
     "output_type": "execute_result"
    }
   ],
   "source": [
    "geothermal_production.head(1)"
   ]
  },
  {
   "cell_type": "code",
   "execution_count": 8,
   "metadata": {},
   "outputs": [
    {
     "data": {
      "text/html": [
       "<div>\n",
       "<style scoped>\n",
       "    .dataframe tbody tr th:only-of-type {\n",
       "        vertical-align: middle;\n",
       "    }\n",
       "\n",
       "    .dataframe tbody tr th {\n",
       "        vertical-align: top;\n",
       "    }\n",
       "\n",
       "    .dataframe thead th {\n",
       "        text-align: right;\n",
       "    }\n",
       "</style>\n",
       "<table border=\"1\" class=\"dataframe\">\n",
       "  <thead>\n",
       "    <tr style=\"text-align: right;\">\n",
       "      <th></th>\n",
       "      <th>Value</th>\n",
       "      <th>Change, %</th>\n",
       "    </tr>\n",
       "    <tr>\n",
       "      <th>Date</th>\n",
       "      <th></th>\n",
       "      <th></th>\n",
       "    </tr>\n",
       "  </thead>\n",
       "  <tbody>\n",
       "    <tr>\n",
       "      <th>2019</th>\n",
       "      <td>2.22</td>\n",
       "      <td>8.55 %</td>\n",
       "    </tr>\n",
       "  </tbody>\n",
       "</table>\n",
       "</div>"
      ],
      "text/plain": [
       "      Value Change, %\n",
       "Date                 \n",
       "2019   2.22    8.55 %"
      ]
     },
     "execution_count": 8,
     "metadata": {},
     "output_type": "execute_result"
    }
   ],
   "source": [
    "wind_production.head(1)"
   ]
  },
  {
   "cell_type": "code",
   "execution_count": 9,
   "metadata": {},
   "outputs": [
    {
     "name": "stdout",
     "output_type": "stream",
     "text": [
      "<class 'pandas.core.frame.DataFrame'>\n",
      "Index: 16 entries, Auckland to West Coast\n",
      "Data columns (total 2 columns):\n",
      "Average consumption (kWh)       16 non-null float64\n",
      "Est. total consumption (GWh)    16 non-null float64\n",
      "dtypes: float64(2)\n",
      "memory usage: 384.0+ bytes\n",
      "None\n",
      "<class 'pandas.core.frame.DataFrame'>\n",
      "Index: 15 entries, Auckland to Southland\n",
      "Data columns (total 1 columns):\n",
      "Population    15 non-null object\n",
      "dtypes: object(1)\n",
      "memory usage: 240.0+ bytes\n",
      "None\n",
      "<class 'pandas.core.frame.DataFrame'>\n",
      "Index: 46 entries, 1974 to 2019\n",
      "Data columns (total 11 columns):\n",
      "Net_Generation(GWh)    46 non-null float64\n",
      "Hydro                  46 non-null float64\n",
      "Geothermal             46 non-null float64\n",
      "Biogas                 46 non-null float64\n",
      "Wood                   46 non-null float64\n",
      "Wind                   46 non-null float64\n",
      "Solar                  46 non-null float64\n",
      "Oil                    46 non-null float64\n",
      "Coal                   46 non-null float64\n",
      "Gas                    46 non-null float64\n",
      "Waste Heat             46 non-null float64\n",
      "dtypes: float64(11)\n",
      "memory usage: 4.3+ KB\n",
      "None\n",
      "<class 'pandas.core.frame.DataFrame'>\n",
      "Int64Index: 10 entries, 2017 to 1966\n",
      "Data columns (total 2 columns):\n",
      "Value        10 non-null int64\n",
      "Change, %    9 non-null object\n",
      "dtypes: int64(1), object(1)\n",
      "memory usage: 240.0+ bytes\n",
      "None\n",
      "<class 'pandas.core.frame.DataFrame'>\n",
      "Int64Index: 12 entries, 2019 to 2008\n",
      "Data columns (total 2 columns):\n",
      "Value        12 non-null float64\n",
      "Change, %    11 non-null object\n",
      "dtypes: float64(1), object(1)\n",
      "memory usage: 288.0+ bytes\n",
      "None\n",
      "<class 'pandas.core.frame.DataFrame'>\n",
      "Int64Index: 12 entries, 2019 to 2008\n",
      "Data columns (total 2 columns):\n",
      "Value        12 non-null float64\n",
      "Change, %    11 non-null object\n",
      "dtypes: float64(1), object(1)\n",
      "memory usage: 288.0+ bytes\n",
      "None\n"
     ]
    }
   ],
   "source": [
    "print(residential_consumption.info())\n",
    "print(population_df.info())\n",
    "print(gov_table.info())\n",
    "print(rainfall.info())\n",
    "print(geothermal_production.info())\n",
    "print(wind_production.info())"
   ]
  },
  {
   "cell_type": "markdown",
   "metadata": {},
   "source": [
    "# Data Persistence\n",
    "## Design a suitable schema for each dataframe and populate it"
   ]
  },
  {
   "cell_type": "code",
   "execution_count": 10,
   "metadata": {},
   "outputs": [],
   "source": [
    "connection=sqlite3.connect('../datasets/mySQLiteDB.db3')\n",
    "cursor=connection.cursor()"
   ]
  },
  {
   "cell_type": "markdown",
   "metadata": {},
   "source": [
    "### For residential consumption table"
   ]
  },
  {
   "cell_type": "code",
   "execution_count": 11,
   "metadata": {},
   "outputs": [],
   "source": [
    "#build a schema for residential consumption table\n",
    "cursor.execute('DROP TABLE IF EXISTS RESIDENTIAL_CONSUMPTION')\n",
    "residential_consump = \"\"\"\n",
    "            CREATE TABLE RESIDENTIAL_CONSUMPTION (\n",
    "            REGION TEXT NOT NULL PRIMARY KEY,\n",
    "            AVERAGE_CONSUMPTION REAL NOT NULL,\n",
    "            TOTAL_CONSUMPTION REAL NOT NULL\n",
    "            );\n",
    "            \"\"\"\n",
    "cursor.execute(residential_consump)\n",
    "\n",
    "add_residential_entry = \"\"\"\n",
    "            INSERT INTO RESIDENTIAL_CONSUMPTION\n",
    "            (REGION, AVERAGE_CONSUMPTION, TOTAL_CONSUMPTION)\n",
    "            VALUES (?,?,?)\n",
    "            \"\"\"\n",
    "for index,row in residential_consumption.iterrows():\n",
    "    substitution_values = (str(index),row['Average consumption (kWh)'],row['Est. total consumption (GWh)'])\n",
    "    cursor.execute(add_residential_entry,substitution_values)\n",
    "connection.commit()"
   ]
  },
  {
   "cell_type": "code",
   "execution_count": 12,
   "metadata": {
    "scrolled": true
   },
   "outputs": [
    {
     "name": "stdout",
     "output_type": "stream",
     "text": [
      "Auckland 7171.9 3666.3934\n",
      "Bay of Plenty 6684.9 790.6301\n",
      "Canterbury 8597.8 2048.1624\n",
      "Gisborne 6432.4 99.40369999999999\n",
      "Hawke's Bay 7239.9 471.6363\n",
      "Manawatu-Wanganui 6416.3 629.5778\n",
      "Marlborough 7171.8 152.27389999999997\n",
      "Nelson 7070.1 146.8615\n",
      "Northland 6304.2 453.2955\n",
      "Otago 8128.5 768.3619\n",
      "Southland 8597.0 348.8646\n",
      "Taranaki 6327.7 301.15309999999994\n",
      "Tasman 7324.6 141.4188\n",
      "Waikato 6837.7 1248.3641\n",
      "Wellington 7149.2 1390.7633\n",
      "West Coast 6044.8 89.23150000000001\n"
     ]
    }
   ],
   "source": [
    "#check\n",
    "sql_statement='SELECT * FROM RESIDENTIAL_CONSUMPTION;'\n",
    "cursor.execute(sql_statement)\n",
    "for (REGION,AVERAGE_CONSUMPTION,TOTAL_CONSUMPTION) in cursor:\n",
    "    print(REGION,AVERAGE_CONSUMPTION,TOTAL_CONSUMPTION)"
   ]
  },
  {
   "cell_type": "markdown",
   "metadata": {},
   "source": [
    "### For population table"
   ]
  },
  {
   "cell_type": "code",
   "execution_count": 13,
   "metadata": {},
   "outputs": [],
   "source": [
    "#build a schema for population table\n",
    "cursor.execute('DROP TABLE IF EXISTS POPULATION')\n",
    "population_table = \"\"\"\n",
    "            CREATE TABLE POPULATION (\n",
    "            REGION TEXT NOT NULL,\n",
    "            POPULATION INTEGER NOT NULL,\n",
    "            FOREIGN KEY(REGION) REFERENCES RESIDENTIAL_CONSUMPTION(REGION)\n",
    "            );  \n",
    "            \"\"\"\n",
    "cursor.execute(population_table)\n",
    "\n",
    "add_population_entry = \"\"\"\n",
    "            INSERT INTO POPULATION\n",
    "            (REGION, POPULATION)\n",
    "            VALUES (?,?)\n",
    "            \"\"\"\n",
    "for index,row in population_df.iterrows():\n",
    "    substitution_values = (str(index),row['Population'])\n",
    "    cursor.execute(add_population_entry,substitution_values)\n",
    "connection.commit()"
   ]
  },
  {
   "cell_type": "code",
   "execution_count": 14,
   "metadata": {},
   "outputs": [
    {
     "name": "stdout",
     "output_type": "stream",
     "text": [
      "Auckland 1717500\n",
      "Waikato 496700\n",
      "Bay of Plenty 337300\n",
      "Gisborne 50700\n",
      "Hawke's Bay 178600\n",
      "Taranaki 124600\n",
      "Manawatū-Whanganui 254300\n",
      "Wellington 542000\n",
      "Tasman 56400\n",
      "Nelson 54600\n",
      "Marlborough 50200\n",
      "West Coast 32400\n",
      "Canterbury 645900\n",
      "Otago 245300\n",
      "Southland 102600\n"
     ]
    }
   ],
   "source": [
    "#check\n",
    "sql_statement='SELECT * FROM POPULATION;'\n",
    "cursor.execute(sql_statement)\n",
    "for (REGION,POPULATION) in cursor:\n",
    "    print(REGION,POPULATION)"
   ]
  },
  {
   "cell_type": "markdown",
   "metadata": {},
   "source": [
    "### For electricity generation table"
   ]
  },
  {
   "cell_type": "code",
   "execution_count": 15,
   "metadata": {},
   "outputs": [],
   "source": [
    "#build a schema for electricity generation table\n",
    "cursor.execute('DROP TABLE IF EXISTS ELE_GENERATION')\n",
    "generation_table = \"\"\"\n",
    "            CREATE TABLE ELE_GENERATION (\n",
    "            YEAR YEAR NOT NULL PRIMARY KEY,\n",
    "            NET_GENERATION REAL NOT NULL,\n",
    "            HYDRO REAL NOT NULL,\n",
    "            GEOTHERMAL REAL NOT NULL,\n",
    "            BIOGAS REAL NOT NULL,\n",
    "            WOOD REAL NOT NULL,\n",
    "            WIND REAL NOT NULL,\n",
    "            SOLAR REAL NOT NULL,\n",
    "            OIL REAL NOT NULL,\n",
    "            COAL REAL NOT NULL,\n",
    "            GAS REAL NOT NULL,\n",
    "            WASTE_HEAT REAL NOT NULL \n",
    "            );  \n",
    "            \"\"\"\n",
    "cursor.execute(generation_table)\n",
    "\n",
    "add_generation_entry = \"\"\"\n",
    "            INSERT INTO ELE_GENERATION\n",
    "            (YEAR, NET_GENERATION, HYDRO, GEOTHERMAL, BIOGAS, WOOD, WIND, SOLAR, OIL, COAL, GAS, WASTE_HEAT)\n",
    "            VALUES (?,?,?,?,?,?,?,?,?,?,?,?)\n",
    "            \"\"\"\n",
    "for index,row in gov_table.iterrows():\n",
    "    substitution_values = (str(index),row['Net_Generation(GWh)'],row['Hydro'],row['Geothermal'],row['Biogas'],\n",
    "                          row['Wood'],row['Wind'],row['Solar'],row['Oil'],row['Coal'],row['Gas'],row['Waste Heat'])\n",
    "    cursor.execute(add_generation_entry,substitution_values)\n",
    "connection.commit()"
   ]
  },
  {
   "cell_type": "code",
   "execution_count": 16,
   "metadata": {},
   "outputs": [
    {
     "name": "stdout",
     "output_type": "stream",
     "text": [
      "1974 20175.816000000003 15037.0 1358.0 7.596 306.14 0.0 0.0 1943.0 1297.0 208.65 18.43\n",
      "1975 20120.266000000003 16497.0 1350.0 41.346 306.14 0.0 0.0 787.0 1046.0 50.65 42.13\n",
      "1976 21220.416 15344.0 1290.0 52.596 306.14 0.0 0.0 1280.0 1097.0 1800.65 50.03\n",
      "1977 21792.415999999997 14573.0 1217.0 52.596 306.14 0.0 0.0 729.0 910.0 3954.65 50.03\n",
      "1978 21854.468500000003 15503.0 1239.0 52.596 306.14 0.0 0.0 199.0 742.0525 3762.65 50.03\n"
     ]
    }
   ],
   "source": [
    "#check\n",
    "sql_statement='SELECT * FROM ELE_GENERATION LIMIT 5;'\n",
    "cursor.execute(sql_statement)\n",
    "for (YEAR, NET_GENERATION, HYDRO, GEOTHERMAL, BIOGAS, WOOD, WIND, SOLAR, OIL, COAL, GAS, WASTE_HEAT) in cursor:\n",
    "    print(YEAR, NET_GENERATION, HYDRO, GEOTHERMAL, BIOGAS, WOOD, WIND, SOLAR, OIL, COAL, GAS, WASTE_HEAT)"
   ]
  },
  {
   "cell_type": "markdown",
   "metadata": {},
   "source": [
    "### For rainfall table"
   ]
  },
  {
   "cell_type": "code",
   "execution_count": 17,
   "metadata": {},
   "outputs": [],
   "source": [
    "#build a schema for rainfall table\n",
    "cursor.execute('DROP TABLE IF EXISTS RAINFALL')\n",
    "rainfall_table = \"\"\"\n",
    "            CREATE TABLE RAINFALL (\n",
    "            DATE YEAR UNIQUE NOT NULL PRIMARY KEY,\n",
    "            AMOUNT INTEGER NOT NULL\n",
    "            );  \n",
    "            \"\"\"\n",
    "cursor.execute(rainfall_table)\n",
    "\n",
    "add_rainfall_entry = \"\"\"\n",
    "            INSERT INTO RAINFALL\n",
    "            (DATE, AMOUNT)\n",
    "            VALUES (?,?)\n",
    "            \"\"\"\n",
    "for index,row in rainfall.iterrows():\n",
    "    substitution_values = (str(index),row['Value'])\n",
    "    cursor.execute(add_rainfall_entry,substitution_values)\n",
    "connection.commit()"
   ]
  },
  {
   "cell_type": "code",
   "execution_count": 18,
   "metadata": {},
   "outputs": [
    {
     "name": "stdout",
     "output_type": "stream",
     "text": [
      "2017 1154\n",
      "2012 1154\n",
      "1999 1154\n",
      "1997 1335\n",
      "1990 1412\n"
     ]
    }
   ],
   "source": [
    "#check\n",
    "sql_statement='SELECT * FROM RAINFALL LIMIT 5;'\n",
    "cursor.execute(sql_statement)\n",
    "for (DATE, AMOUNT) in cursor:\n",
    "    print(DATE, AMOUNT)"
   ]
  },
  {
   "cell_type": "markdown",
   "metadata": {},
   "source": [
    "### For geothermal table"
   ]
  },
  {
   "cell_type": "code",
   "execution_count": 19,
   "metadata": {},
   "outputs": [],
   "source": [
    "#build a schema for geothermal table\n",
    "cursor.execute('DROP TABLE IF EXISTS GEOTHERMAL')\n",
    "geothermal_table = \"\"\"\n",
    "            CREATE TABLE GEOTHERMAL (\n",
    "            DATE YEAR UNIQUE NOT NULL PRIMARY KEY,\n",
    "            AMOUNT INTEGER NOT NULL,\n",
    "            FOREIGN KEY(DATE) REFERENCES RAINFALL(DATE)\n",
    "            );  \n",
    "            \"\"\"\n",
    "cursor.execute(geothermal_table)\n",
    "\n",
    "add_geothermal_entry = \"\"\"\n",
    "            INSERT INTO GEOTHERMAL\n",
    "            (DATE, AMOUNT)\n",
    "            VALUES (?,?)\n",
    "            \"\"\"\n",
    "for index,row in geothermal_production.iterrows():\n",
    "    substitution_values = (str(index),row['Value'])\n",
    "    cursor.execute(add_geothermal_entry,substitution_values)\n",
    "connection.commit()"
   ]
  },
  {
   "cell_type": "code",
   "execution_count": 20,
   "metadata": {},
   "outputs": [
    {
     "name": "stdout",
     "output_type": "stream",
     "text": [
      "2019 7.44\n",
      "2018 7.51\n",
      "2017 7.46\n",
      "2016 7.43\n",
      "2015 7.41\n"
     ]
    }
   ],
   "source": [
    "#check\n",
    "sql_statement='SELECT * FROM GEOTHERMAL LIMIT 5;'\n",
    "cursor.execute(sql_statement)\n",
    "for (DATE, AMOUNT) in cursor:\n",
    "    print(DATE, AMOUNT)"
   ]
  },
  {
   "cell_type": "markdown",
   "metadata": {},
   "source": [
    "### For wind table"
   ]
  },
  {
   "cell_type": "code",
   "execution_count": 21,
   "metadata": {},
   "outputs": [],
   "source": [
    "#build a schema for wind table\n",
    "cursor.execute('DROP TABLE IF EXISTS WIND')\n",
    "wind_table = \"\"\"\n",
    "            CREATE TABLE WIND (\n",
    "            DATE YEAR UNIQUE NOT NULL PRIMARY KEY,\n",
    "            AMOUNT INTEGER NOT NULL,\n",
    "            FOREIGN KEY(DATE) REFERENCES GEOTHERMAL(DATE)\n",
    "            );  \n",
    "            \"\"\"\n",
    "cursor.execute(wind_table)\n",
    "\n",
    "add_wind_entry = \"\"\"\n",
    "            INSERT INTO WIND\n",
    "            (DATE, AMOUNT)\n",
    "            VALUES (?,?)\n",
    "            \"\"\"\n",
    "for index,row in wind_production.iterrows():\n",
    "    substitution_values = (str(index),row['Value'])\n",
    "    cursor.execute(add_wind_entry,substitution_values)\n",
    "connection.commit()"
   ]
  },
  {
   "cell_type": "code",
   "execution_count": 22,
   "metadata": {},
   "outputs": [
    {
     "name": "stdout",
     "output_type": "stream",
     "text": [
      "2019 2.22\n",
      "2018 2.05\n",
      "2017 2.07\n",
      "2016 2.31\n",
      "2015 2.34\n"
     ]
    }
   ],
   "source": [
    "#check\n",
    "sql_statement='SELECT * FROM WIND LIMIT 5;'\n",
    "cursor.execute(sql_statement)\n",
    "for (DATE, AMOUNT) in cursor:\n",
    "    print(DATE, AMOUNT)"
   ]
  },
  {
   "cell_type": "code",
   "execution_count": 23,
   "metadata": {},
   "outputs": [],
   "source": [
    "#close the connection\n",
    "cursor.close()\n",
    "connection.close()"
   ]
  },
  {
   "cell_type": "markdown",
   "metadata": {},
   "source": [
    "### Final check from DB Browser"
   ]
  },
  {
   "attachments": {
    "DB%20Browser%20for%20sqlite%20output.png": {
     "image/png": "[encoded data removed]"
    }
   },
   "cell_type": "markdown",
   "metadata": {},
   "source": [
    "![DB%20Browser%20for%20sqlite%20output.png](attachment:DB%20Browser%20for%20sqlite%20output.png)"
   ]
  },
  {
   "cell_type": "markdown",
   "metadata": {},
   "source": [
    "# Access data from databases by using queries"
   ]
  },
  {
   "cell_type": "code",
   "execution_count": 24,
   "metadata": {},
   "outputs": [],
   "source": [
    "connection=sqlite3.connect('../datasets/mySQLiteDB.db3')"
   ]
  },
  {
   "cell_type": "markdown",
   "metadata": {},
   "source": [
    "### Transform population table\n",
    "Process the query to show the number of regions that belong to different statuses according to the size of the population. I set up the population larger than 1 million as a major region; the population greater than 500 thousand and less than 1 million as a large region; the population greater than 100 thousand and less than 500 thousand as a medium region; the population less than 100 thousand as a small region."
   ]
  },
  {
   "cell_type": "code",
   "execution_count": 25,
   "metadata": {},
   "outputs": [
    {
     "data": {
      "text/html": [
       "<div>\n",
       "<style scoped>\n",
       "    .dataframe tbody tr th:only-of-type {\n",
       "        vertical-align: middle;\n",
       "    }\n",
       "\n",
       "    .dataframe tbody tr th {\n",
       "        vertical-align: top;\n",
       "    }\n",
       "\n",
       "    .dataframe thead th {\n",
       "        text-align: right;\n",
       "    }\n",
       "</style>\n",
       "<table border=\"1\" class=\"dataframe\">\n",
       "  <thead>\n",
       "    <tr style=\"text-align: right;\">\n",
       "      <th></th>\n",
       "      <th>NO_OF_REGIONS</th>\n",
       "      <th>AVG_POPULATION</th>\n",
       "      <th>STATUS</th>\n",
       "    </tr>\n",
       "  </thead>\n",
       "  <tbody>\n",
       "    <tr>\n",
       "      <th>0</th>\n",
       "      <td>2</td>\n",
       "      <td>5.939500e+05</td>\n",
       "      <td>Large region</td>\n",
       "    </tr>\n",
       "    <tr>\n",
       "      <th>1</th>\n",
       "      <td>1</td>\n",
       "      <td>1.717500e+06</td>\n",
       "      <td>Major region</td>\n",
       "    </tr>\n",
       "    <tr>\n",
       "      <th>2</th>\n",
       "      <td>7</td>\n",
       "      <td>2.484857e+05</td>\n",
       "      <td>Medium region</td>\n",
       "    </tr>\n",
       "    <tr>\n",
       "      <th>3</th>\n",
       "      <td>5</td>\n",
       "      <td>4.886000e+04</td>\n",
       "      <td>Small region</td>\n",
       "    </tr>\n",
       "  </tbody>\n",
       "</table>\n",
       "</div>"
      ],
      "text/plain": [
       "   NO_OF_REGIONS  AVG_POPULATION         STATUS\n",
       "0              2    5.939500e+05   Large region\n",
       "1              1    1.717500e+06   Major region\n",
       "2              7    2.484857e+05  Medium region\n",
       "3              5    4.886000e+04   Small region"
      ]
     },
     "execution_count": 25,
     "metadata": {},
     "output_type": "execute_result"
    }
   ],
   "source": [
    "sql_statement = \"\"\"\n",
    "                SELECT COUNT(REGION) AS NO_OF_REGIONS, \n",
    "                AVG(POPULATION) AS AVG_POPULATION,\n",
    "                CASE WHEN POPULATION >= 1000000 THEN 'Major region'\n",
    "                    WHEN POPULATION >= 500000 AND POPULATION < 1000000 THEN 'Large region'\n",
    "                    WHEN POPULATION >= 100000 AND POPULATION < 500000 THEN 'Medium region'\n",
    "                    ELSE 'Small region' END\n",
    "                AS STATUS\n",
    "                FROM POPULATION\n",
    "                GROUP BY STATUS\n",
    "                ORDER BY STATUS;\n",
    "                \"\"\"\n",
    "new_population=pd.read_sql_query(sql_statement,connection)\n",
    "new_population"
   ]
  },
  {
   "cell_type": "markdown",
   "metadata": {},
   "source": [
    "### Join consumption and population tables\n",
    "This query prepares for the below visualization."
   ]
  },
  {
   "cell_type": "code",
   "execution_count": 26,
   "metadata": {},
   "outputs": [
    {
     "data": {
      "text/html": [
       "<div>\n",
       "<style scoped>\n",
       "    .dataframe tbody tr th:only-of-type {\n",
       "        vertical-align: middle;\n",
       "    }\n",
       "\n",
       "    .dataframe tbody tr th {\n",
       "        vertical-align: top;\n",
       "    }\n",
       "\n",
       "    .dataframe thead th {\n",
       "        text-align: right;\n",
       "    }\n",
       "</style>\n",
       "<table border=\"1\" class=\"dataframe\">\n",
       "  <thead>\n",
       "    <tr style=\"text-align: right;\">\n",
       "      <th></th>\n",
       "      <th>REGION</th>\n",
       "      <th>AVERAGE_CONSUMPTION</th>\n",
       "      <th>TOTAL_CONSUMPTION</th>\n",
       "      <th>POPULATION</th>\n",
       "    </tr>\n",
       "  </thead>\n",
       "  <tbody>\n",
       "    <tr>\n",
       "      <th>0</th>\n",
       "      <td>Auckland</td>\n",
       "      <td>7171.9</td>\n",
       "      <td>3666.3934</td>\n",
       "      <td>1717500</td>\n",
       "    </tr>\n",
       "    <tr>\n",
       "      <th>1</th>\n",
       "      <td>Waikato</td>\n",
       "      <td>6837.7</td>\n",
       "      <td>1248.3641</td>\n",
       "      <td>496700</td>\n",
       "    </tr>\n",
       "    <tr>\n",
       "      <th>2</th>\n",
       "      <td>Bay of Plenty</td>\n",
       "      <td>6684.9</td>\n",
       "      <td>790.6301</td>\n",
       "      <td>337300</td>\n",
       "    </tr>\n",
       "    <tr>\n",
       "      <th>3</th>\n",
       "      <td>Gisborne</td>\n",
       "      <td>6432.4</td>\n",
       "      <td>99.4037</td>\n",
       "      <td>50700</td>\n",
       "    </tr>\n",
       "    <tr>\n",
       "      <th>4</th>\n",
       "      <td>Hawke's Bay</td>\n",
       "      <td>7239.9</td>\n",
       "      <td>471.6363</td>\n",
       "      <td>178600</td>\n",
       "    </tr>\n",
       "  </tbody>\n",
       "</table>\n",
       "</div>"
      ],
      "text/plain": [
       "          REGION  AVERAGE_CONSUMPTION  TOTAL_CONSUMPTION  POPULATION\n",
       "0       Auckland               7171.9          3666.3934     1717500\n",
       "1        Waikato               6837.7          1248.3641      496700\n",
       "2  Bay of Plenty               6684.9           790.6301      337300\n",
       "3       Gisborne               6432.4            99.4037       50700\n",
       "4    Hawke's Bay               7239.9           471.6363      178600"
      ]
     },
     "execution_count": 26,
     "metadata": {},
     "output_type": "execute_result"
    }
   ],
   "source": [
    "sql_statement = \"\"\"\n",
    "                SELECT rc.REGION, AVERAGE_CONSUMPTION, TOTAL_CONSUMPTION,POPULATION\n",
    "                FROM RESIDENTIAL_CONSUMPTION AS rc\n",
    "                INNER JOIN POPULATION AS p\n",
    "                ON rc.REGION=p.REGION;\n",
    "                \"\"\"\n",
    "residential_table=pd.read_sql_query(sql_statement,connection)\n",
    "residential_table.head()"
   ]
  },
  {
   "cell_type": "markdown",
   "metadata": {},
   "source": [
    "### Find the difference between the rainfall index in each year and maximum rainfall."
   ]
  },
  {
   "cell_type": "code",
   "execution_count": 27,
   "metadata": {},
   "outputs": [
    {
     "data": {
      "text/html": [
       "<div>\n",
       "<style scoped>\n",
       "    .dataframe tbody tr th:only-of-type {\n",
       "        vertical-align: middle;\n",
       "    }\n",
       "\n",
       "    .dataframe tbody tr th {\n",
       "        vertical-align: top;\n",
       "    }\n",
       "\n",
       "    .dataframe thead th {\n",
       "        text-align: right;\n",
       "    }\n",
       "</style>\n",
       "<table border=\"1\" class=\"dataframe\">\n",
       "  <thead>\n",
       "    <tr style=\"text-align: right;\">\n",
       "      <th></th>\n",
       "      <th>DATE</th>\n",
       "      <th>AMOUNT</th>\n",
       "      <th>MAXIMUM RAINFALL</th>\n",
       "      <th>DIFFERENCE</th>\n",
       "    </tr>\n",
       "  </thead>\n",
       "  <tbody>\n",
       "    <tr>\n",
       "      <th>0</th>\n",
       "      <td>2017</td>\n",
       "      <td>1154</td>\n",
       "      <td>1412</td>\n",
       "      <td>-258</td>\n",
       "    </tr>\n",
       "    <tr>\n",
       "      <th>1</th>\n",
       "      <td>2012</td>\n",
       "      <td>1154</td>\n",
       "      <td>1412</td>\n",
       "      <td>-258</td>\n",
       "    </tr>\n",
       "    <tr>\n",
       "      <th>2</th>\n",
       "      <td>1999</td>\n",
       "      <td>1154</td>\n",
       "      <td>1412</td>\n",
       "      <td>-258</td>\n",
       "    </tr>\n",
       "    <tr>\n",
       "      <th>3</th>\n",
       "      <td>1997</td>\n",
       "      <td>1335</td>\n",
       "      <td>1412</td>\n",
       "      <td>-77</td>\n",
       "    </tr>\n",
       "    <tr>\n",
       "      <th>4</th>\n",
       "      <td>1990</td>\n",
       "      <td>1412</td>\n",
       "      <td>1412</td>\n",
       "      <td>0</td>\n",
       "    </tr>\n",
       "    <tr>\n",
       "      <th>5</th>\n",
       "      <td>1987</td>\n",
       "      <td>1288</td>\n",
       "      <td>1412</td>\n",
       "      <td>-124</td>\n",
       "    </tr>\n",
       "    <tr>\n",
       "      <th>6</th>\n",
       "      <td>1981</td>\n",
       "      <td>1299</td>\n",
       "      <td>1412</td>\n",
       "      <td>-113</td>\n",
       "    </tr>\n",
       "    <tr>\n",
       "      <th>7</th>\n",
       "      <td>1976</td>\n",
       "      <td>1335</td>\n",
       "      <td>1412</td>\n",
       "      <td>-77</td>\n",
       "    </tr>\n",
       "    <tr>\n",
       "      <th>8</th>\n",
       "      <td>1972</td>\n",
       "      <td>1347</td>\n",
       "      <td>1412</td>\n",
       "      <td>-65</td>\n",
       "    </tr>\n",
       "    <tr>\n",
       "      <th>9</th>\n",
       "      <td>1966</td>\n",
       "      <td>1394</td>\n",
       "      <td>1412</td>\n",
       "      <td>-18</td>\n",
       "    </tr>\n",
       "  </tbody>\n",
       "</table>\n",
       "</div>"
      ],
      "text/plain": [
       "   DATE  AMOUNT  MAXIMUM RAINFALL  DIFFERENCE\n",
       "0  2017    1154              1412        -258\n",
       "1  2012    1154              1412        -258\n",
       "2  1999    1154              1412        -258\n",
       "3  1997    1335              1412         -77\n",
       "4  1990    1412              1412           0\n",
       "5  1987    1288              1412        -124\n",
       "6  1981    1299              1412        -113\n",
       "7  1976    1335              1412         -77\n",
       "8  1972    1347              1412         -65\n",
       "9  1966    1394              1412         -18"
      ]
     },
     "execution_count": 27,
     "metadata": {},
     "output_type": "execute_result"
    }
   ],
   "source": [
    "sql_statement = \"\"\"\n",
    "                SELECT DATE, AMOUNT,\n",
    "                (SELECT MAX(AMOUNT) FROM RAINFALL) AS \"MAXIMUM RAINFALL\",\n",
    "                AMOUNT - (SELECT MAX(AMOUNT) FROM RAINFALL) AS DIFFERENCE\n",
    "                FROM RAINFALL;\n",
    "                \"\"\"\n",
    "new_rainfall_table=pd.read_sql_query(sql_statement,connection)\n",
    "new_rainfall_table"
   ]
  },
  {
   "cell_type": "markdown",
   "metadata": {},
   "source": [
    "### Find the difference between the geothermal production in each year and average geothermal production."
   ]
  },
  {
   "cell_type": "code",
   "execution_count": 28,
   "metadata": {
    "scrolled": true
   },
   "outputs": [
    {
     "data": {
      "text/html": [
       "<div>\n",
       "<style scoped>\n",
       "    .dataframe tbody tr th:only-of-type {\n",
       "        vertical-align: middle;\n",
       "    }\n",
       "\n",
       "    .dataframe tbody tr th {\n",
       "        vertical-align: top;\n",
       "    }\n",
       "\n",
       "    .dataframe thead th {\n",
       "        text-align: right;\n",
       "    }\n",
       "</style>\n",
       "<table border=\"1\" class=\"dataframe\">\n",
       "  <thead>\n",
       "    <tr style=\"text-align: right;\">\n",
       "      <th></th>\n",
       "      <th>DATE</th>\n",
       "      <th>AMOUNT</th>\n",
       "      <th>AVERAGE PRODUCTION</th>\n",
       "      <th>DIFFERENCE</th>\n",
       "    </tr>\n",
       "  </thead>\n",
       "  <tbody>\n",
       "    <tr>\n",
       "      <th>0</th>\n",
       "      <td>2019</td>\n",
       "      <td>7.44</td>\n",
       "      <td>6.37</td>\n",
       "      <td>1.07</td>\n",
       "    </tr>\n",
       "    <tr>\n",
       "      <th>1</th>\n",
       "      <td>2018</td>\n",
       "      <td>7.51</td>\n",
       "      <td>6.37</td>\n",
       "      <td>1.14</td>\n",
       "    </tr>\n",
       "    <tr>\n",
       "      <th>2</th>\n",
       "      <td>2017</td>\n",
       "      <td>7.46</td>\n",
       "      <td>6.37</td>\n",
       "      <td>1.09</td>\n",
       "    </tr>\n",
       "    <tr>\n",
       "      <th>3</th>\n",
       "      <td>2016</td>\n",
       "      <td>7.43</td>\n",
       "      <td>6.37</td>\n",
       "      <td>1.06</td>\n",
       "    </tr>\n",
       "    <tr>\n",
       "      <th>4</th>\n",
       "      <td>2015</td>\n",
       "      <td>7.41</td>\n",
       "      <td>6.37</td>\n",
       "      <td>1.04</td>\n",
       "    </tr>\n",
       "  </tbody>\n",
       "</table>\n",
       "</div>"
      ],
      "text/plain": [
       "   DATE  AMOUNT  AVERAGE PRODUCTION  DIFFERENCE\n",
       "0  2019    7.44                6.37        1.07\n",
       "1  2018    7.51                6.37        1.14\n",
       "2  2017    7.46                6.37        1.09\n",
       "3  2016    7.43                6.37        1.06\n",
       "4  2015    7.41                6.37        1.04"
      ]
     },
     "execution_count": 28,
     "metadata": {},
     "output_type": "execute_result"
    }
   ],
   "source": [
    "sql_statement = \"\"\"\n",
    "                SELECT DATE, AMOUNT,\n",
    "                (SELECT AVG(AMOUNT) FROM GEOTHERMAL) AS \"AVERAGE PRODUCTION\",\n",
    "                AMOUNT - (SELECT AVG(AMOUNT) FROM GEOTHERMAL) AS DIFFERENCE\n",
    "                FROM GEOTHERMAL;\n",
    "                \"\"\"\n",
    "new_geothermal_table=pd.read_sql_query(sql_statement,connection)\n",
    "new_geothermal_table.head()"
   ]
  },
  {
   "cell_type": "markdown",
   "metadata": {},
   "source": [
    "### Find the difference between the wind production in each year and average wind production."
   ]
  },
  {
   "cell_type": "code",
   "execution_count": 29,
   "metadata": {},
   "outputs": [
    {
     "data": {
      "text/html": [
       "<div>\n",
       "<style scoped>\n",
       "    .dataframe tbody tr th:only-of-type {\n",
       "        vertical-align: middle;\n",
       "    }\n",
       "\n",
       "    .dataframe tbody tr th {\n",
       "        vertical-align: top;\n",
       "    }\n",
       "\n",
       "    .dataframe thead th {\n",
       "        text-align: right;\n",
       "    }\n",
       "</style>\n",
       "<table border=\"1\" class=\"dataframe\">\n",
       "  <thead>\n",
       "    <tr style=\"text-align: right;\">\n",
       "      <th></th>\n",
       "      <th>DATE</th>\n",
       "      <th>AMOUNT</th>\n",
       "      <th>AVERAGE PRODUCTION</th>\n",
       "      <th>DIFFERENCE</th>\n",
       "    </tr>\n",
       "  </thead>\n",
       "  <tbody>\n",
       "    <tr>\n",
       "      <th>0</th>\n",
       "      <td>2019</td>\n",
       "      <td>2.22</td>\n",
       "      <td>1.945</td>\n",
       "      <td>0.275</td>\n",
       "    </tr>\n",
       "    <tr>\n",
       "      <th>1</th>\n",
       "      <td>2018</td>\n",
       "      <td>2.05</td>\n",
       "      <td>1.945</td>\n",
       "      <td>0.105</td>\n",
       "    </tr>\n",
       "    <tr>\n",
       "      <th>2</th>\n",
       "      <td>2017</td>\n",
       "      <td>2.07</td>\n",
       "      <td>1.945</td>\n",
       "      <td>0.125</td>\n",
       "    </tr>\n",
       "    <tr>\n",
       "      <th>3</th>\n",
       "      <td>2016</td>\n",
       "      <td>2.31</td>\n",
       "      <td>1.945</td>\n",
       "      <td>0.365</td>\n",
       "    </tr>\n",
       "    <tr>\n",
       "      <th>4</th>\n",
       "      <td>2015</td>\n",
       "      <td>2.34</td>\n",
       "      <td>1.945</td>\n",
       "      <td>0.395</td>\n",
       "    </tr>\n",
       "  </tbody>\n",
       "</table>\n",
       "</div>"
      ],
      "text/plain": [
       "   DATE  AMOUNT  AVERAGE PRODUCTION  DIFFERENCE\n",
       "0  2019    2.22               1.945       0.275\n",
       "1  2018    2.05               1.945       0.105\n",
       "2  2017    2.07               1.945       0.125\n",
       "3  2016    2.31               1.945       0.365\n",
       "4  2015    2.34               1.945       0.395"
      ]
     },
     "execution_count": 29,
     "metadata": {},
     "output_type": "execute_result"
    }
   ],
   "source": [
    "sql_statement = \"\"\"\n",
    "                SELECT DATE, AMOUNT,\n",
    "                (SELECT AVG(AMOUNT) FROM WIND) AS \"AVERAGE PRODUCTION\",\n",
    "                AMOUNT - (SELECT AVG(AMOUNT) FROM WIND) AS DIFFERENCE\n",
    "                FROM WIND;\n",
    "                \"\"\"\n",
    "new_wind_table=pd.read_sql_query(sql_statement,connection)\n",
    "new_wind_table.head()"
   ]
  },
  {
   "cell_type": "markdown",
   "metadata": {},
   "source": [
    "### Transform electricity generation table."
   ]
  },
  {
   "cell_type": "code",
   "execution_count": 30,
   "metadata": {},
   "outputs": [
    {
     "data": {
      "text/html": [
       "<div>\n",
       "<style scoped>\n",
       "    .dataframe tbody tr th:only-of-type {\n",
       "        vertical-align: middle;\n",
       "    }\n",
       "\n",
       "    .dataframe tbody tr th {\n",
       "        vertical-align: top;\n",
       "    }\n",
       "\n",
       "    .dataframe thead th {\n",
       "        text-align: right;\n",
       "    }\n",
       "</style>\n",
       "<table border=\"1\" class=\"dataframe\">\n",
       "  <thead>\n",
       "    <tr style=\"text-align: right;\">\n",
       "      <th></th>\n",
       "      <th>YEAR</th>\n",
       "      <th>COAL_PERCENTAGE</th>\n",
       "      <th>GAS_PERCENTAGE</th>\n",
       "      <th>OIL_PERCENTAGE</th>\n",
       "      <th>HYDRO_PERCENTAGE</th>\n",
       "      <th>RENEWABLE_PERCENTAGE</th>\n",
       "    </tr>\n",
       "  </thead>\n",
       "  <tbody>\n",
       "    <tr>\n",
       "      <th>41</th>\n",
       "      <td>2015</td>\n",
       "      <td>4.072989</td>\n",
       "      <td>14.933944</td>\n",
       "      <td>0.003363</td>\n",
       "      <td>56.423387</td>\n",
       "      <td>23.756035</td>\n",
       "    </tr>\n",
       "    <tr>\n",
       "      <th>42</th>\n",
       "      <td>2016</td>\n",
       "      <td>2.299153</td>\n",
       "      <td>12.688390</td>\n",
       "      <td>0.007306</td>\n",
       "      <td>60.240150</td>\n",
       "      <td>23.986710</td>\n",
       "    </tr>\n",
       "    <tr>\n",
       "      <th>43</th>\n",
       "      <td>2017</td>\n",
       "      <td>2.698739</td>\n",
       "      <td>13.863382</td>\n",
       "      <td>0.013117</td>\n",
       "      <td>58.828688</td>\n",
       "      <td>23.873114</td>\n",
       "    </tr>\n",
       "    <tr>\n",
       "      <th>44</th>\n",
       "      <td>2018</td>\n",
       "      <td>3.427957</td>\n",
       "      <td>12.415589</td>\n",
       "      <td>0.025263</td>\n",
       "      <td>60.313149</td>\n",
       "      <td>23.122380</td>\n",
       "    </tr>\n",
       "    <tr>\n",
       "      <th>45</th>\n",
       "      <td>2019</td>\n",
       "      <td>4.868599</td>\n",
       "      <td>12.634444</td>\n",
       "      <td>0.009021</td>\n",
       "      <td>58.202735</td>\n",
       "      <td>23.559283</td>\n",
       "    </tr>\n",
       "  </tbody>\n",
       "</table>\n",
       "</div>"
      ],
      "text/plain": [
       "    YEAR  COAL_PERCENTAGE  GAS_PERCENTAGE  OIL_PERCENTAGE  HYDRO_PERCENTAGE  \\\n",
       "41  2015         4.072989       14.933944        0.003363         56.423387   \n",
       "42  2016         2.299153       12.688390        0.007306         60.240150   \n",
       "43  2017         2.698739       13.863382        0.013117         58.828688   \n",
       "44  2018         3.427957       12.415589        0.025263         60.313149   \n",
       "45  2019         4.868599       12.634444        0.009021         58.202735   \n",
       "\n",
       "    RENEWABLE_PERCENTAGE  \n",
       "41             23.756035  \n",
       "42             23.986710  \n",
       "43             23.873114  \n",
       "44             23.122380  \n",
       "45             23.559283  "
      ]
     },
     "execution_count": 30,
     "metadata": {},
     "output_type": "execute_result"
    }
   ],
   "source": [
    "sql_statement = \"\"\"\n",
    "                SELECT YEAR,\n",
    "                COAL / NET_GENERATION*100 AS COAL_PERCENTAGE,\n",
    "                GAS / NET_GENERATION*100 AS GAS_PERCENTAGE,\n",
    "                OIL / NET_GENERATION*100 AS OIL_PERCENTAGE,\n",
    "                HYDRO / NET_GENERATION*100 AS HYDRO_PERCENTAGE,\n",
    "                (GEOTHERMAL+BIOGAS+WIND+SOLAR+WASTE_HEAT) / NET_GENERATION*100 AS RENEWABLE_PERCENTAGE\n",
    "                FROM ELE_GENERATION;\n",
    "                \"\"\"\n",
    "electricity_generation_table=pd.read_sql_query(sql_statement,connection)\n",
    "electricity_generation_table.tail()"
   ]
  },
  {
   "cell_type": "code",
   "execution_count": 31,
   "metadata": {},
   "outputs": [],
   "source": [
    "connection.close()"
   ]
  },
  {
   "cell_type": "markdown",
   "metadata": {},
   "source": [
    "# Data analysis"
   ]
  },
  {
   "cell_type": "markdown",
   "metadata": {},
   "source": [
    "### Regional situation of New Zealand"
   ]
  },
  {
   "cell_type": "code",
   "execution_count": 32,
   "metadata": {},
   "outputs": [
    {
     "data": {
      "text/plain": [
       "Text(0.5,1,'Region status in New Zealand')"
      ]
     },
     "execution_count": 32,
     "metadata": {},
     "output_type": "execute_result"
    },
    {
     "data": {
      "image/png": "[encoded data removed]",
      "text/plain": [
       "<Figure size 864x360 with 1 Axes>"
      ]
     },
     "metadata": {
      "needs_background": "light"
     },
     "output_type": "display_data"
    }
   ],
   "source": [
    "plt.figure(figsize=(12,5))\n",
    "plt.bar(new_population['STATUS'],new_population['NO_OF_REGIONS'])\n",
    "ax = plt.gca()\n",
    "ax.grid(axis='y')\n",
    "plt.xlabel('Region status',fontsize=20)\n",
    "plt.ylabel('Number of regions',fontsize=20)\n",
    "plt.title('Region status in New Zealand',fontsize=25)"
   ]
  },
  {
   "cell_type": "markdown",
   "metadata": {},
   "source": [
    "The above figure visually describes the regional situation of New Zealand according to the population."
   ]
  },
  {
   "cell_type": "markdown",
   "metadata": {},
   "source": [
    "### The difference between geothermal production and the average poduction"
   ]
  },
  {
   "cell_type": "code",
   "execution_count": 33,
   "metadata": {
    "scrolled": true
   },
   "outputs": [
    {
     "data": {
      "text/plain": [
       "Text(0.5,1,'Change of geothermal production in New Zealand')"
      ]
     },
     "execution_count": 33,
     "metadata": {},
     "output_type": "execute_result"
    },
    {
     "data": {
      "image/png": "[encoded data removed]",
      "text/plain": [
       "<Figure size 864x360 with 1 Axes>"
      ]
     },
     "metadata": {
      "needs_background": "light"
     },
     "output_type": "display_data"
    }
   ],
   "source": [
    "plt.figure(figsize=(12,5))\n",
    "sns.set_color_codes(\"muted\")\n",
    "sns.barplot(new_geothermal_table['DATE'],new_geothermal_table['DIFFERENCE'])\n",
    "ax = plt.gca()\n",
    "ax.grid(axis='x')\n",
    "ax.grid(axis='y')\n",
    "plt.xlabel('Year',fontsize=15)\n",
    "plt.ylabel('Difference between production and mean',fontsize=15)\n",
    "plt.title('Change of geothermal production in New Zealand',fontsize=25)"
   ]
  },
  {
   "cell_type": "markdown",
   "metadata": {},
   "source": [
    "Geothermal production capacity is increasing year by year."
   ]
  },
  {
   "cell_type": "markdown",
   "metadata": {},
   "source": [
    "### The difference between wind production and the average poduction"
   ]
  },
  {
   "cell_type": "code",
   "execution_count": 34,
   "metadata": {
    "scrolled": true
   },
   "outputs": [
    {
     "data": {
      "text/plain": [
       "Text(0.5,1,'Change of wind production in New Zealand')"
      ]
     },
     "execution_count": 34,
     "metadata": {},
     "output_type": "execute_result"
    },
    {
     "data": {
      "image/png": "[encoded data removed]",
      "text/plain": [
       "<Figure size 864x360 with 1 Axes>"
      ]
     },
     "metadata": {
      "needs_background": "light"
     },
     "output_type": "display_data"
    }
   ],
   "source": [
    "plt.figure(figsize=(12,5))\n",
    "sns.set_color_codes(\"muted\")\n",
    "sns.barplot(new_wind_table['DATE'],new_wind_table['DIFFERENCE'])\n",
    "ax = plt.gca()\n",
    "ax.grid(axis='x')\n",
    "ax.grid(axis='y')\n",
    "plt.xlabel('Year',fontsize=15)\n",
    "plt.ylabel('Difference between production and mean',fontsize=15)\n",
    "plt.title('Change of wind production in New Zealand',fontsize=25)"
   ]
  },
  {
   "cell_type": "markdown",
   "metadata": {},
   "source": [
    "Wind's production capacity has increased in general but fluctuated between 2013 and 2017-2018."
   ]
  },
  {
   "cell_type": "markdown",
   "metadata": {},
   "source": [
    "# Database Views"
   ]
  },
  {
   "cell_type": "code",
   "execution_count": 35,
   "metadata": {},
   "outputs": [],
   "source": [
    "%load_ext sql"
   ]
  },
  {
   "cell_type": "code",
   "execution_count": 36,
   "metadata": {},
   "outputs": [],
   "source": [
    "%sql sqlite:///../datasets/mySQLiteDB.db3"
   ]
  },
  {
   "cell_type": "markdown",
   "metadata": {},
   "source": [
    "Residential consumption"
   ]
  },
  {
   "cell_type": "code",
   "execution_count": 39,
   "metadata": {},
   "outputs": [
    {
     "name": "stdout",
     "output_type": "stream",
     "text": [
      " * sqlite:///../datasets/mySQLiteDB.db3\n",
      "Done.\n"
     ]
    },
    {
     "data": {
      "text/plain": [
       "[]"
      ]
     },
     "execution_count": 39,
     "metadata": {},
     "output_type": "execute_result"
    }
   ],
   "source": [
    "%sql DROP VIEW CONSUMPTION_AMOUNT"
   ]
  },
  {
   "cell_type": "code",
   "execution_count": 40,
   "metadata": {},
   "outputs": [
    {
     "name": "stdout",
     "output_type": "stream",
     "text": [
      " * sqlite:///../datasets/mySQLiteDB.db3\n",
      "Done.\n"
     ]
    },
    {
     "data": {
      "text/plain": [
       "[]"
      ]
     },
     "execution_count": 40,
     "metadata": {},
     "output_type": "execute_result"
    }
   ],
   "source": [
    "%%sql\n",
    "CREATE VIEW CONSUMPTION_AMOUNT AS\n",
    "    SELECT COUNT(STATUS) AS COUNT,\n",
    "    ROUND(AVG(TOTAL_CONSUMPTION),3) AS AVERAGE_TOTAL_CONSUMPTION,\n",
    "    STATUS\n",
    "    FROM (SELECT\n",
    "             TOTAL_CONSUMPTION,\n",
    "             CASE WHEN TOTAL_CONSUMPTION >= 3000 THEN 'Large'\n",
    "             WHEN TOTAL_CONSUMPTION < 3000 AND TOTAL_CONSUMPTION >= 1000 THEN 'Medium'\n",
    "             ELSE 'Little' END\n",
    "             AS STATUS\n",
    "         FROM RESIDENTIAL_CONSUMPTION)\n",
    "    GROUP BY STATUS"
   ]
  },
  {
   "cell_type": "code",
   "execution_count": 41,
   "metadata": {
    "scrolled": true
   },
   "outputs": [
    {
     "name": "stdout",
     "output_type": "stream",
     "text": [
      " * sqlite:///../datasets/mySQLiteDB.db3\n",
      "Done.\n"
     ]
    },
    {
     "data": {
      "text/html": [
       "<table>\n",
       "    <tr>\n",
       "        <th>COUNT</th>\n",
       "        <th>AVERAGE_TOTAL_CONSUMPTION</th>\n",
       "        <th>STATUS</th>\n",
       "    </tr>\n",
       "    <tr>\n",
       "        <td>1</td>\n",
       "        <td>3666.393</td>\n",
       "        <td>Large</td>\n",
       "    </tr>\n",
       "    <tr>\n",
       "        <td>12</td>\n",
       "        <td>366.059</td>\n",
       "        <td>Little</td>\n",
       "    </tr>\n",
       "    <tr>\n",
       "        <td>3</td>\n",
       "        <td>1562.43</td>\n",
       "        <td>Medium</td>\n",
       "    </tr>\n",
       "</table>"
      ],
      "text/plain": [
       "[(1, 3666.393, 'Large'), (12, 366.059, 'Little'), (3, 1562.43, 'Medium')]"
      ]
     },
     "execution_count": 41,
     "metadata": {},
     "output_type": "execute_result"
    }
   ],
   "source": [
    "%%sql\n",
    "SELECT * FROM CONSUMPTION_AMOUNT"
   ]
  },
  {
   "cell_type": "markdown",
   "metadata": {},
   "source": [
    "Rainfall index"
   ]
  },
  {
   "cell_type": "code",
   "execution_count": 42,
   "metadata": {},
   "outputs": [
    {
     "name": "stdout",
     "output_type": "stream",
     "text": [
      " * sqlite:///../datasets/mySQLiteDB.db3\n",
      "Done.\n"
     ]
    },
    {
     "data": {
      "text/plain": [
       "[]"
      ]
     },
     "execution_count": 42,
     "metadata": {},
     "output_type": "execute_result"
    }
   ],
   "source": [
    "%sql DROP VIEW RAINFALL_NOTICES"
   ]
  },
  {
   "cell_type": "code",
   "execution_count": 43,
   "metadata": {},
   "outputs": [
    {
     "name": "stdout",
     "output_type": "stream",
     "text": [
      " * sqlite:///../datasets/mySQLiteDB.db3\n",
      "Done.\n"
     ]
    },
    {
     "data": {
      "text/plain": [
       "[]"
      ]
     },
     "execution_count": 43,
     "metadata": {},
     "output_type": "execute_result"
    }
   ],
   "source": [
    "%%sql\n",
    "CREATE VIEW RAINFALL_NOTICES AS\n",
    "    SELECT COUNT(STATUS) AS COUNT,\n",
    "    ROUND(AVG(AMOUNT - (SELECT MAX(AMOUNT) FROM RAINFALL)),1) AS AVG_DIFFERENCE,\n",
    "    STATUS\n",
    "    FROM (SELECT\n",
    "             AMOUNT,\n",
    "             CASE WHEN ABS(AMOUNT - (SELECT MAX(AMOUNT) FROM RAINFALL)) <= 150 THEN 'Accepted'\n",
    "             ELSE 'Attention' END\n",
    "             AS STATUS\n",
    "         FROM RAINFALL)\n",
    "    GROUP BY STATUS"
   ]
  },
  {
   "cell_type": "code",
   "execution_count": 44,
   "metadata": {},
   "outputs": [
    {
     "name": "stdout",
     "output_type": "stream",
     "text": [
      " * sqlite:///../datasets/mySQLiteDB.db3\n",
      "Done.\n"
     ]
    },
    {
     "data": {
      "text/html": [
       "<table>\n",
       "    <tr>\n",
       "        <th>COUNT</th>\n",
       "        <th>AVG_DIFFERENCE</th>\n",
       "        <th>STATUS</th>\n",
       "    </tr>\n",
       "    <tr>\n",
       "        <td>7</td>\n",
       "        <td>-67.7</td>\n",
       "        <td>Accepted</td>\n",
       "    </tr>\n",
       "    <tr>\n",
       "        <td>3</td>\n",
       "        <td>-258.0</td>\n",
       "        <td>Attention</td>\n",
       "    </tr>\n",
       "</table>"
      ],
      "text/plain": [
       "[(7, -67.7, 'Accepted'), (3, -258.0, 'Attention')]"
      ]
     },
     "execution_count": 44,
     "metadata": {},
     "output_type": "execute_result"
    }
   ],
   "source": [
    "%%sql\n",
    "SELECT * FROM RAINFALL_NOTICES"
   ]
  },
  {
   "cell_type": "markdown",
   "metadata": {},
   "source": [
    "# Conclusion"
   ]
  },
  {
   "cell_type": "markdown",
   "metadata": {},
   "source": [
    "Data persistence and data analysis have all been completed."
   ]
  },
  {
   "cell_type": "code",
   "execution_count": null,
   "metadata": {},
   "outputs": [],
   "source": []
  }
 ],
 "metadata": {
  "kernelspec": {
   "display_name": "Python 3",
   "language": "python",
   "name": "python3"
  },
  "language_info": {
   "codemirror_mode": {
    "name": "ipython",
    "version": 3
   },
   "file_extension": ".py",
   "mimetype": "text/x-python",
   "name": "python",
   "nbconvert_exporter": "python",
   "pygments_lexer": "ipython3",
   "version": "3.7.0"
  }
 },
 "nbformat": 4,
 "nbformat_minor": 2
}
